{
 "cells": [
  {
   "cell_type": "code",
   "execution_count": 13,
   "metadata": {},
   "outputs": [],
   "source": [
    "import requests\n",
    "import json"
   ]
  },
  {
   "cell_type": "code",
   "execution_count": 14,
   "metadata": {},
   "outputs": [],
   "source": [
    "import requests\n",
    "\n",
    "url = \"https://tank01-nfl-live-in-game-real-time-statistics-nfl.p.rapidapi.com/getNFLPlayerList\"\n",
    "\n",
    "headers = {\n",
    "\t\"x-rapidapi-key\": \"470de29086msh9c226f9de1ed3eep12569djsnb5317edc8903\",\n",
    "\t\"x-rapidapi-host\": \"tank01-nfl-live-in-game-real-time-statistics-nfl.p.rapidapi.com\"\n",
    "}\n",
    "\n",
    "response = requests.get(url, headers=headers)\n",
    "\n",
    "response = response.json()\n",
    "\n",
    "with open(\"player_data_2024\", 'w') as f:\n",
    "    json.dump(response, f)"
   ]
  },
  {
   "cell_type": "code",
   "execution_count": 15,
   "metadata": {},
   "outputs": [],
   "source": [
    "url = \"https://tank01-nfl-live-in-game-real-time-statistics-nfl.p.rapidapi.com/getNFLTeams\"\n",
    "\n",
    "querystring = {\"sortBy\":\"standings\",\"rosters\":\"false\",\"schedules\":\"false\",\"topPerformers\":\"true\",\"teamStats\":\"true\",\"teamStatsSeason\":\"2023\"}\n",
    "\n",
    "headers = {\n",
    "\t\"x-rapidapi-key\": \"470de29086msh9c226f9de1ed3eep12569djsnb5317edc8903\",\n",
    "\t\"x-rapidapi-host\": \"tank01-nfl-live-in-game-real-time-statistics-nfl.p.rapidapi.com\"\n",
    "}\n",
    "\n",
    "response = requests.get(url, headers=headers, params=querystring)\n",
    "response = response.json()\n",
    "\n",
    "with open(\"team_info_2024\", 'w') as f:\n",
    "    json.dump(response, f)"
   ]
  },
  {
   "cell_type": "code",
   "execution_count": 19,
   "metadata": {},
   "outputs": [
    {
     "data": {
      "text/plain": [
       "dict_keys(['espnID', 'espnName', 'sleeperBotID', 'espnIDFull', 'fRefID', 'weight', 'jerseyNum', 'cbsShortName', 'team', 'yahooPlayerID', 'age', 'espnLink', 'yahooLink', 'bDay', 'espnHeadshot', 'isFreeAgent', 'rotoWirePlayerIDFull', 'cbsLongName', 'injury', 'teamID', 'pos', 'school', 'cbsPlayerID', 'longName', 'rotoWirePlayerID', 'height', 'cbsPlayerIDFull', 'lastGamePlayed', 'playerID', 'exp'])"
      ]
     },
     "execution_count": 19,
     "metadata": {},
     "output_type": "execute_result"
    }
   ],
   "source": [
    "player_data = json.load(open(\"player_data_2024.json\"))\n",
    "# len(player_data['body'])\n",
    "player_data['body'][0].keys()"
   ]
  },
  {
   "cell_type": "code",
   "execution_count": 30,
   "metadata": {},
   "outputs": [
    {
     "name": "stdout",
     "output_type": "stream",
     "text": [
      "1865\n"
     ]
    }
   ],
   "source": [
    "from datetime import datetime\n",
    "played_last_year = []\n",
    "given_date = datetime.strptime(\"20240905\", \"%Y%m%d\")\n",
    "played = 0\n",
    "for player in player_data['body']:\n",
    "    # only include players that last played after september 5 2024\n",
    "    # print(player['espnName'])\n",
    "    if 'lastGamePlayed' not in player:\n",
    "        continue\n",
    "    last_game_played = player['lastGamePlayed']\n",
    "    if not last_game_played:\n",
    "        continue\n",
    "    last_game_played = last_game_played.split('_')[0]\n",
    "    if datetime.strptime(last_game_played, \"%Y%m%d\") >= given_date:\n",
    "        played_last_year.append(player)\n",
    "\n",
    "print(len(played_last_year))\n",
    "\n",
    "with open(\"players_played_in_2024.json\", 'w') as f:\n",
    "    json.dump(played_last_year, f)"
   ]
  },
  {
   "cell_type": "code",
   "execution_count": 31,
   "metadata": {},
   "outputs": [
    {
     "data": {
      "text/plain": [
       "1865"
      ]
     },
     "execution_count": 31,
     "metadata": {},
     "output_type": "execute_result"
    }
   ],
   "source": [
    "players_2024 = json.load(open(\"players_played_in_2024.json\"))\n",
    "len(players_2024)"
   ]
  }
 ],
 "metadata": {
  "kernelspec": {
   "display_name": "base",
   "language": "python",
   "name": "python3"
  },
  "language_info": {
   "codemirror_mode": {
    "name": "ipython",
    "version": 3
   },
   "file_extension": ".py",
   "mimetype": "text/x-python",
   "name": "python",
   "nbconvert_exporter": "python",
   "pygments_lexer": "ipython3",
   "version": "3.8.5"
  }
 },
 "nbformat": 4,
 "nbformat_minor": 2
}
