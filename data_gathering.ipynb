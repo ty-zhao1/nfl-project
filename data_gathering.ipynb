{
 "cells": [
  {
   "cell_type": "code",
   "execution_count": null,
   "metadata": {},
   "outputs": [],
   "source": [
    "import requests"
   ]
  },
  {
   "cell_type": "code",
   "execution_count": null,
   "metadata": {},
   "outputs": [],
   "source": [
    "# first, get all team data\n",
    "# url = \"https://nfl-api-data.p.rapidapi.com/nfl-player-listing/v1/data\"\n",
    "url = \"https://nfl-api-data.p.rapidapi.com/nfl-team-info/v1/data\"\n",
    "headers = {\n",
    "\t\"x-rapidapi-key\": \"470de29086msh9c226f9de1ed3eep12569djsnb5317edc8903\",\n",
    "\t\"x-rapidapi-host\": \"nfl-api-data.p.rapidapi.com\"\n",
    "}\n",
    "mappings = []\n",
    "for i in range(32):\n",
    "    query = {'id': f'{i}'}\n",
    "    response = requests.get(url, headers=headers, params=query)\n",
    "    data = response.json()\n",
    "    team_string = data['team']['displayName']\n",
    "    mappings.append((i, team_string))\n",
    "    print(f'{i}: {team_string}')\n",
    "\n",
    "for team_id, team_string in mappings:\n",
    "    with open('id_mappings.txt', 'a') as f:\n",
    "        f.write(f'{team_id} {team_string}\\n')\n",
    "    "
   ]
  }
 ],
 "metadata": {
  "kernelspec": {
   "display_name": "Python 3",
   "language": "python",
   "name": "python3"
  },
  "language_info": {
   "name": "python",
   "version": "3.12.7"
  }
 },
 "nbformat": 4,
 "nbformat_minor": 2
}
